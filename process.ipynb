{
 "cells": [
  {
   "cell_type": "code",
   "execution_count": 1,
   "metadata": {},
   "outputs": [],
   "source": [
    "import numpy as np\n",
    "import pandas as pd"
   ]
  },
  {
   "cell_type": "code",
   "execution_count": 2,
   "metadata": {},
   "outputs": [
    {
     "data": {
      "text/html": [
       "<div>\n",
       "<style scoped>\n",
       "    .dataframe tbody tr th:only-of-type {\n",
       "        vertical-align: middle;\n",
       "    }\n",
       "\n",
       "    .dataframe tbody tr th {\n",
       "        vertical-align: top;\n",
       "    }\n",
       "\n",
       "    .dataframe thead th {\n",
       "        text-align: right;\n",
       "    }\n",
       "</style>\n",
       "<table border=\"1\" class=\"dataframe\">\n",
       "  <thead>\n",
       "    <tr style=\"text-align: right;\">\n",
       "      <th></th>\n",
       "      <th>0</th>\n",
       "      <th>1</th>\n",
       "    </tr>\n",
       "  </thead>\n",
       "  <tbody>\n",
       "    <tr>\n",
       "      <td>0</td>\n",
       "      <td>25.03.2020 00:00:01:865</td>\n",
       "      <td>{\"Bids\":[[6766.8,0.008],[6765.5,0.213],[6764....</td>\n",
       "    </tr>\n",
       "    <tr>\n",
       "      <td>1</td>\n",
       "      <td>25.03.2020 00:00:02:923</td>\n",
       "      <td>{\"Bids\":[[6765.6,0.154],[6765.5,0.213],[6764....</td>\n",
       "    </tr>\n",
       "    <tr>\n",
       "      <td>2</td>\n",
       "      <td>25.03.2020 00:00:03:966</td>\n",
       "      <td>{\"Bids\":[[6765.5,0.263],[6764.7,0.01],[6764.6...</td>\n",
       "    </tr>\n",
       "    <tr>\n",
       "      <td>3</td>\n",
       "      <td>25.03.2020 00:00:05:985</td>\n",
       "      <td>{\"Bids\":[[6765.5,0.367],[6764.7,0.01],[6764.6...</td>\n",
       "    </tr>\n",
       "    <tr>\n",
       "      <td>4</td>\n",
       "      <td>25.03.2020 00:00:07:405</td>\n",
       "      <td>{\"Bids\":[[6765.5,0.316],[6764.7,0.01],[6764.6...</td>\n",
       "    </tr>\n",
       "    <tr>\n",
       "      <td>...</td>\n",
       "      <td>...</td>\n",
       "      <td>...</td>\n",
       "    </tr>\n",
       "    <tr>\n",
       "      <td>49798</td>\n",
       "      <td>25.03.2020 23:59:50:788</td>\n",
       "      <td>{\"Bids\":[[6691.8,6.394],[6690.2,0.139],[6690....</td>\n",
       "    </tr>\n",
       "    <tr>\n",
       "      <td>49799</td>\n",
       "      <td>25.03.2020 23:59:51:821</td>\n",
       "      <td>{\"Bids\":[[6690.2,0.139],[6690.1,0.7],[6689.9,...</td>\n",
       "    </tr>\n",
       "    <tr>\n",
       "      <td>49800</td>\n",
       "      <td>25.03.2020 23:59:53:861</td>\n",
       "      <td>{\"Bids\":[[6690.1,0.7],[6689.9,0.7],[6689.5,8....</td>\n",
       "    </tr>\n",
       "    <tr>\n",
       "      <td>49801</td>\n",
       "      <td>25.03.2020 23:59:55:985</td>\n",
       "      <td>{\"Bids\":[[6690.1,0.7],[6689.9,0.7],[6689.5,8....</td>\n",
       "    </tr>\n",
       "    <tr>\n",
       "      <td>49802</td>\n",
       "      <td>25.03.2020 23:59:57:988</td>\n",
       "      <td>{\"Bids\":[[6690.1,0.7],[6689.9,0.7],[6689.5,8....</td>\n",
       "    </tr>\n",
       "  </tbody>\n",
       "</table>\n",
       "<p>49803 rows × 2 columns</p>\n",
       "</div>"
      ],
      "text/plain": [
       "                              0  \\\n",
       "0      25.03.2020 00:00:01:865    \n",
       "1      25.03.2020 00:00:02:923    \n",
       "2      25.03.2020 00:00:03:966    \n",
       "3      25.03.2020 00:00:05:985    \n",
       "4      25.03.2020 00:00:07:405    \n",
       "...                         ...   \n",
       "49798  25.03.2020 23:59:50:788    \n",
       "49799  25.03.2020 23:59:51:821    \n",
       "49800  25.03.2020 23:59:53:861    \n",
       "49801  25.03.2020 23:59:55:985    \n",
       "49802  25.03.2020 23:59:57:988    \n",
       "\n",
       "                                                       1  \n",
       "0       {\"Bids\":[[6766.8,0.008],[6765.5,0.213],[6764....  \n",
       "1       {\"Bids\":[[6765.6,0.154],[6765.5,0.213],[6764....  \n",
       "2       {\"Bids\":[[6765.5,0.263],[6764.7,0.01],[6764.6...  \n",
       "3       {\"Bids\":[[6765.5,0.367],[6764.7,0.01],[6764.6...  \n",
       "4       {\"Bids\":[[6765.5,0.316],[6764.7,0.01],[6764.6...  \n",
       "...                                                  ...  \n",
       "49798   {\"Bids\":[[6691.8,6.394],[6690.2,0.139],[6690....  \n",
       "49799   {\"Bids\":[[6690.2,0.139],[6690.1,0.7],[6689.9,...  \n",
       "49800   {\"Bids\":[[6690.1,0.7],[6689.9,0.7],[6689.5,8....  \n",
       "49801   {\"Bids\":[[6690.1,0.7],[6689.9,0.7],[6689.5,8....  \n",
       "49802   {\"Bids\":[[6690.1,0.7],[6689.9,0.7],[6689.5,8....  \n",
       "\n",
       "[49803 rows x 2 columns]"
      ]
     },
     "execution_count": 2,
     "metadata": {},
     "output_type": "execute_result"
    }
   ],
   "source": [
    "dataframe=pd.read_csv(\"ex10xZUSDx85.csv\", sep=\"-\", header=None)\n",
    "dataframe"
   ]
  },
  {
   "cell_type": "code",
   "execution_count": 3,
   "metadata": {},
   "outputs": [],
   "source": [
    "dataframe[0]=dataframe[0].astype('str')"
   ]
  },
  {
   "cell_type": "code",
   "execution_count": null,
   "metadata": {},
   "outputs": [],
   "source": [
    "eval(dataframe[1][0])[\"Asks\"][0][0]"
   ]
  },
  {
   "cell_type": "code",
   "execution_count": 63,
   "metadata": {},
   "outputs": [
    {
     "name": "stdout",
     "output_type": "stream",
     "text": [
      "                          0                                                  1\n",
      "3  25.03.2020 00:00:05:985    {\"Bids\":[[6765.5,0.367],[6764.7,0.01],[6764.6...\n"
     ]
    },
    {
     "data": {
      "text/plain": [
       "[[6765.6, 7.806],\n",
       " [6765.7, 0.115],\n",
       " [6765.8, 0.007],\n",
       " [6766.5, 5.3],\n",
       " [6766.6, 0.303],\n",
       " [6766.7, 2.0],\n",
       " [6766.8, 0.96],\n",
       " [6766.9, 2.0],\n",
       " [6767.0, 2.517],\n",
       " [6767.1, 0.757],\n",
       " [6767.7, 0.294],\n",
       " [6768.2, 0.576],\n",
       " [6769.2, 0.309],\n",
       " [6769.5, 0.587],\n",
       " [6770.0, 7.375],\n",
       " [6770.6, 0.291],\n",
       " [6772.2, 0.585],\n",
       " [6772.8, 0.315],\n",
       " [6773.8, 0.466],\n",
       " [6773.9, 0.775]]"
      ]
     },
     "execution_count": 63,
     "metadata": {},
     "output_type": "execute_result"
    }
   ],
   "source": [
    "newRow=dataframe[dataframe[0].str.contains(\" 00:00:05\",case=False)]#.iloc[[-1]].index\n",
    "print(newRow)\n",
    "eval(newRow[1][3])[\"Asks\"]"
   ]
  },
  {
   "cell_type": "code",
   "execution_count": null,
   "metadata": {},
   "outputs": [],
   "source": [
    "tempDataFrame=dataframe\n",
    "tempDataFrame[1]=tempDataFrame[1].apply(lambda x: dict(eval(x)))\n",
    "bidsAndAsks=tempDataFrame[1].apply(pd.Series)"
   ]
  },
  {
   "cell_type": "code",
   "execution_count": null,
   "metadata": {},
   "outputs": [],
   "source": [
    "dataframe=dataframe.drop([1], axis=1)\n",
    "dataframe.head()"
   ]
  },
  {
   "cell_type": "code",
   "execution_count": null,
   "metadata": {},
   "outputs": [],
   "source": [
    "semiFinalDataframe=pd.concat([dataframe, bidsAndAsks], axis=1)\n",
    "semiFinalDataframe.tail()"
   ]
  },
  {
   "cell_type": "code",
   "execution_count": null,
   "metadata": {},
   "outputs": [],
   "source": [
    "semiFinalDataframe.dtypes"
   ]
  },
  {
   "cell_type": "code",
   "execution_count": null,
   "metadata": {},
   "outputs": [],
   "source": [
    "newRow=semiFinalDataframe.loc[semiFinalDataframe[0] == \"25.03.2020 23:59:57:988 \"]"
   ]
  },
  {
   "cell_type": "code",
   "execution_count": null,
   "metadata": {},
   "outputs": [],
   "source": [
    "newRow[\"Asks\"][49802][0][0]"
   ]
  },
  {
   "cell_type": "markdown",
   "metadata": {},
   "source": [
    "# Begin Formulation from below"
   ]
  },
  {
   "cell_type": "code",
   "execution_count": 4,
   "metadata": {},
   "outputs": [],
   "source": [
    "import numpy as np\n",
    "import pandas as pd"
   ]
  },
  {
   "cell_type": "code",
   "execution_count": 64,
   "metadata": {},
   "outputs": [],
   "source": [
    "def GiveMeThePrice(dataframe):\n",
    "    date=input(\"Which day and time do you want the price of: \")\n",
    "    while(True):\n",
    "        try:\n",
    "            newRow=dataframe[dataframe[0].str.contains(date,case=False)]\n",
    "            index=dataframe[dataframe[0].str.contains(date,case=False)].iloc[[-1]].index\n",
    "            break\n",
    "        except:\n",
    "            second=date[-2:]\n",
    "            time=str(int(second)+1)\n",
    "            if int(time)<10:\n",
    "                time=\"0\"+time\n",
    "            date=date[:-2]+time\n",
    "    print(\"The price in date {} and time {} was ${}\".format(date[:10],date[11:],eval(newRow[1][index[0]])[\"Asks\"][0][0]))\n",
    "    return eval(newRow[1][index[0]])[\"Asks\"][0][0]"
   ]
  },
  {
   "cell_type": "code",
   "execution_count": 65,
   "metadata": {},
   "outputs": [
    {
     "name": "stdout",
     "output_type": "stream",
     "text": [
      "Which day and time do you want the price of: 25.03.2020 00:00:04\n",
      "6765.6\n",
      "25.03.2020 00:00:05\n",
      "The price in date 25.03.2020 and time 00:00:05 was $6765.6\n"
     ]
    },
    {
     "data": {
      "text/plain": [
       "6765.6"
      ]
     },
     "execution_count": 65,
     "metadata": {},
     "output_type": "execute_result"
    }
   ],
   "source": [
    "GiveMeThePrice(dataframe)"
   ]
  },
  {
   "cell_type": "code",
   "execution_count": null,
   "metadata": {},
   "outputs": [],
   "source": [
    "GiveMeThePrice(semiFinalDataframe)"
   ]
  }
 ],
 "metadata": {
  "kernelspec": {
   "display_name": "Python 3",
   "language": "python",
   "name": "python3"
  },
  "language_info": {
   "codemirror_mode": {
    "name": "ipython",
    "version": 3
   },
   "file_extension": ".py",
   "mimetype": "text/x-python",
   "name": "python",
   "nbconvert_exporter": "python",
   "pygments_lexer": "ipython3",
   "version": "3.7.4"
  }
 },
 "nbformat": 4,
 "nbformat_minor": 2
}

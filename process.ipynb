{
 "cells": [
  {
   "cell_type": "code",
   "execution_count": 1,
   "metadata": {},
   "outputs": [],
   "source": [
    "import numpy as np\n",
    "import pandas as pd"
   ]
  },
  {
   "cell_type": "code",
   "execution_count": 2,
   "metadata": {},
   "outputs": [
    {
     "data": {
      "text/html": [
       "<div>\n",
       "<style scoped>\n",
       "    .dataframe tbody tr th:only-of-type {\n",
       "        vertical-align: middle;\n",
       "    }\n",
       "\n",
       "    .dataframe tbody tr th {\n",
       "        vertical-align: top;\n",
       "    }\n",
       "\n",
       "    .dataframe thead th {\n",
       "        text-align: right;\n",
       "    }\n",
       "</style>\n",
       "<table border=\"1\" class=\"dataframe\">\n",
       "  <thead>\n",
       "    <tr style=\"text-align: right;\">\n",
       "      <th></th>\n",
       "      <th>0</th>\n",
       "      <th>1</th>\n",
       "    </tr>\n",
       "  </thead>\n",
       "  <tbody>\n",
       "    <tr>\n",
       "      <td>0</td>\n",
       "      <td>25.03.2020 00:00:01:865</td>\n",
       "      <td>{\"Bids\":[[6766.8,0.008],[6765.5,0.213],[6764....</td>\n",
       "    </tr>\n",
       "    <tr>\n",
       "      <td>1</td>\n",
       "      <td>25.03.2020 00:00:02:923</td>\n",
       "      <td>{\"Bids\":[[6765.6,0.154],[6765.5,0.213],[6764....</td>\n",
       "    </tr>\n",
       "    <tr>\n",
       "      <td>2</td>\n",
       "      <td>25.03.2020 00:00:03:966</td>\n",
       "      <td>{\"Bids\":[[6765.5,0.263],[6764.7,0.01],[6764.6...</td>\n",
       "    </tr>\n",
       "    <tr>\n",
       "      <td>3</td>\n",
       "      <td>25.03.2020 00:00:05:985</td>\n",
       "      <td>{\"Bids\":[[6765.5,0.367],[6764.7,0.01],[6764.6...</td>\n",
       "    </tr>\n",
       "    <tr>\n",
       "      <td>4</td>\n",
       "      <td>25.03.2020 00:00:07:405</td>\n",
       "      <td>{\"Bids\":[[6765.5,0.316],[6764.7,0.01],[6764.6...</td>\n",
       "    </tr>\n",
       "    <tr>\n",
       "      <td>...</td>\n",
       "      <td>...</td>\n",
       "      <td>...</td>\n",
       "    </tr>\n",
       "    <tr>\n",
       "      <td>49798</td>\n",
       "      <td>25.03.2020 23:59:50:788</td>\n",
       "      <td>{\"Bids\":[[6691.8,6.394],[6690.2,0.139],[6690....</td>\n",
       "    </tr>\n",
       "    <tr>\n",
       "      <td>49799</td>\n",
       "      <td>25.03.2020 23:59:51:821</td>\n",
       "      <td>{\"Bids\":[[6690.2,0.139],[6690.1,0.7],[6689.9,...</td>\n",
       "    </tr>\n",
       "    <tr>\n",
       "      <td>49800</td>\n",
       "      <td>25.03.2020 23:59:53:861</td>\n",
       "      <td>{\"Bids\":[[6690.1,0.7],[6689.9,0.7],[6689.5,8....</td>\n",
       "    </tr>\n",
       "    <tr>\n",
       "      <td>49801</td>\n",
       "      <td>25.03.2020 23:59:55:985</td>\n",
       "      <td>{\"Bids\":[[6690.1,0.7],[6689.9,0.7],[6689.5,8....</td>\n",
       "    </tr>\n",
       "    <tr>\n",
       "      <td>49802</td>\n",
       "      <td>25.03.2020 23:59:57:988</td>\n",
       "      <td>{\"Bids\":[[6690.1,0.7],[6689.9,0.7],[6689.5,8....</td>\n",
       "    </tr>\n",
       "  </tbody>\n",
       "</table>\n",
       "<p>49803 rows × 2 columns</p>\n",
       "</div>"
      ],
      "text/plain": [
       "                              0  \\\n",
       "0      25.03.2020 00:00:01:865    \n",
       "1      25.03.2020 00:00:02:923    \n",
       "2      25.03.2020 00:00:03:966    \n",
       "3      25.03.2020 00:00:05:985    \n",
       "4      25.03.2020 00:00:07:405    \n",
       "...                         ...   \n",
       "49798  25.03.2020 23:59:50:788    \n",
       "49799  25.03.2020 23:59:51:821    \n",
       "49800  25.03.2020 23:59:53:861    \n",
       "49801  25.03.2020 23:59:55:985    \n",
       "49802  25.03.2020 23:59:57:988    \n",
       "\n",
       "                                                       1  \n",
       "0       {\"Bids\":[[6766.8,0.008],[6765.5,0.213],[6764....  \n",
       "1       {\"Bids\":[[6765.6,0.154],[6765.5,0.213],[6764....  \n",
       "2       {\"Bids\":[[6765.5,0.263],[6764.7,0.01],[6764.6...  \n",
       "3       {\"Bids\":[[6765.5,0.367],[6764.7,0.01],[6764.6...  \n",
       "4       {\"Bids\":[[6765.5,0.316],[6764.7,0.01],[6764.6...  \n",
       "...                                                  ...  \n",
       "49798   {\"Bids\":[[6691.8,6.394],[6690.2,0.139],[6690....  \n",
       "49799   {\"Bids\":[[6690.2,0.139],[6690.1,0.7],[6689.9,...  \n",
       "49800   {\"Bids\":[[6690.1,0.7],[6689.9,0.7],[6689.5,8....  \n",
       "49801   {\"Bids\":[[6690.1,0.7],[6689.9,0.7],[6689.5,8....  \n",
       "49802   {\"Bids\":[[6690.1,0.7],[6689.9,0.7],[6689.5,8....  \n",
       "\n",
       "[49803 rows x 2 columns]"
      ]
     },
     "execution_count": 2,
     "metadata": {},
     "output_type": "execute_result"
    }
   ],
   "source": [
    "dataframe=pd.read_csv(\"ex10xZUSDx85.csv\", sep=\"-\", header=None)\n",
    "dataframe"
   ]
  },
  {
   "cell_type": "code",
   "execution_count": 3,
   "metadata": {},
   "outputs": [],
   "source": [
    "dataframe[0]=dataframe[0].astype('str')"
   ]
  },
  {
   "cell_type": "code",
   "execution_count": null,
   "metadata": {},
   "outputs": [],
   "source": [
    "eval(dataframe[1][0])[\"Asks\"][0][0]"
   ]
  },
  {
   "cell_type": "code",
   "execution_count": null,
   "metadata": {},
   "outputs": [],
   "source": [
    "tempDataFrame=dataframe\n",
    "tempDataFrame[1]=tempDataFrame[1].apply(lambda x: dict(eval(x)))\n",
    "bidsAndAsks=tempDataFrame[1].apply(pd.Series)"
   ]
  },
  {
   "cell_type": "code",
   "execution_count": null,
   "metadata": {},
   "outputs": [],
   "source": [
    "dataframe=dataframe.drop([1], axis=1)\n",
    "dataframe.head()"
   ]
  },
  {
   "cell_type": "code",
   "execution_count": null,
   "metadata": {},
   "outputs": [],
   "source": [
    "semiFinalDataframe=pd.concat([dataframe, bidsAndAsks], axis=1)\n",
    "semiFinalDataframe.tail()"
   ]
  },
  {
   "cell_type": "code",
   "execution_count": null,
   "metadata": {},
   "outputs": [],
   "source": [
    "semiFinalDataframe.dtypes"
   ]
  },
  {
   "cell_type": "code",
   "execution_count": null,
   "metadata": {},
   "outputs": [],
   "source": [
    "newRow=semiFinalDataframe.loc[semiFinalDataframe[0] == \"25.03.2020 23:59:57:988 \"]"
   ]
  },
  {
   "cell_type": "code",
   "execution_count": null,
   "metadata": {},
   "outputs": [],
   "source": [
    "newRow[\"Asks\"][49802][0][0]"
   ]
  },
  {
   "cell_type": "markdown",
   "metadata": {},
   "source": [
    "# Begin Formulation from below"
   ]
  },
  {
   "cell_type": "code",
   "execution_count": 4,
   "metadata": {},
   "outputs": [],
   "source": [
    "import numpy as np\n",
    "import pandas as pd"
   ]
  },
  {
   "cell_type": "code",
   "execution_count": 5,
   "metadata": {},
   "outputs": [],
   "source": [
    "def GiveMeThePrice(dataframe):\n",
    "    date=input(\"Which day and time do you want the price of: \")\n",
    "    if date[-1]!=\" \":\n",
    "        date+=\" \"\n",
    "    if len(date)>19:     \n",
    "        newRow=dataframe.loc[dataframe[0] == date]\n",
    "        index=dataframe.loc[dataframe[0] == date].index\n",
    "    \n",
    "    print(eval(newRow[1][index[0]])[\"Asks\"][0][0])\n",
    "    print(\"The price in date {} and time {} was ${}\".format(date[:10],date[11:],eval(newRow[1][index[0]])[\"Asks\"][0][0]))\n",
    "    return eval(newRow[1][index[0]])[\"Asks\"][0][0]"
   ]
  },
  {
   "cell_type": "code",
   "execution_count": 6,
   "metadata": {},
   "outputs": [
    {
     "name": "stdout",
     "output_type": "stream",
     "text": [
      "Which day and time do you want the price of: 25.03.2020 00:00:01:865\n",
      "6766.9\n",
      "The price in date 25.03.2020 and time 00:00:01:865  was $6766.9\n"
     ]
    },
    {
     "data": {
      "text/plain": [
       "6766.9"
      ]
     },
     "execution_count": 6,
     "metadata": {},
     "output_type": "execute_result"
    }
   ],
   "source": [
    "GiveMeThePrice(dataframe)"
   ]
  },
  {
   "cell_type": "code",
   "execution_count": null,
   "metadata": {},
   "outputs": [],
   "source": [
    "GiveMeThePrice(semiFinalDataframe)"
   ]
  }
 ],
 "metadata": {
  "kernelspec": {
   "display_name": "Python 3",
   "language": "python",
   "name": "python3"
  },
  "language_info": {
   "codemirror_mode": {
    "name": "ipython",
    "version": 3
   },
   "file_extension": ".py",
   "mimetype": "text/x-python",
   "name": "python",
   "nbconvert_exporter": "python",
   "pygments_lexer": "ipython3",
   "version": "3.7.4"
  }
 },
 "nbformat": 4,
 "nbformat_minor": 2
}
